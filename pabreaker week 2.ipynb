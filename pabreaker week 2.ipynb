{
 "cells": [
  {
   "cell_type": "code",
   "execution_count": null,
   "metadata": {},
   "outputs": [],
   "source": [
    "# 파뿌리 2주차 과제\n",
    "# 민수홍\n",
    "# 2020.09.14"
   ]
  },
  {
   "cell_type": "code",
   "execution_count": 3,
   "metadata": {},
   "outputs": [
    {
     "name": "stdout",
     "output_type": "stream",
     "text": [
      "[8, 10, 26, 31, 40, 43]\n"
     ]
    }
   ],
   "source": [
    "### 1. 로또 번호 생성기 함수 만들기. 정렬까지 포함할 것\n",
    "import random\n",
    "def lotto() :\n",
    "    lottoNum = random.sample(range(1,46),6) # 1~45 범위에서 6개 복원추출\n",
    "    print(sorted(lottoNum))\n",
    "lotto()"
   ]
  },
  {
   "cell_type": "code",
   "execution_count": 14,
   "metadata": {},
   "outputs": [
    {
     "name": "stdin",
     "output_type": "stream",
     "text": [
      "숫자 입력 :  3\n",
      "연산자 입력 :  +\n",
      "숫자 입력 :  3\n"
     ]
    },
    {
     "name": "stdout",
     "output_type": "stream",
     "text": [
      "3 + 3 = 6\n"
     ]
    }
   ],
   "source": [
    "### 2. 다음과 같은 계산기 코드가 있을 때, 상세하게 살을 덧붙이고, 예외처리와 모듈화를 진행하라.\n",
    "import sys\n",
    "sys.path.append(\"C:\\\\Users\\\\User\\\\Desktop\\\\파뿌리\")\n",
    "import hongs_cal\n",
    "myMod1.Cal()"
   ]
  },
  {
   "cell_type": "code",
   "execution_count": 20,
   "metadata": {},
   "outputs": [
    {
     "name": "stdin",
     "output_type": "stream",
     "text": [
      "문자열을 입력하세요 :  suhongs razor\n"
     ]
    },
    {
     "name": "stdout",
     "output_type": "stream",
     "text": [
      "문자의 개수 : 13\n",
      "가장 큰 문자열 : z\n",
      "뒤집은 문자열 : rozar sgnohus\n"
     ]
    }
   ],
   "source": [
    "### 3. 문자열을 분석하는 함수 만들기. 내장함수를 이용하라\n",
    "def strAnl() :\n",
    "    munja = str(input(\"문자열을 입력하세요 : \"))\n",
    "    print(\"문자의 개수 : %d\" % len(munja))\n",
    "    print(\"가장 큰 문자열 :\",max(munja))\n",
    "    print(\"뒤집은 문자열 :\",munja[::-1])\n",
    "strAnl()"
   ]
  },
  {
   "cell_type": "code",
   "execution_count": 21,
   "metadata": {},
   "outputs": [
    {
     "name": "stdout",
     "output_type": "stream",
     "text": [
      "현재 : 2020년 09월 22일 20시 10분 59초\n",
      "미래 : 2020년 11월 10일 21시 19분 06초\n"
     ]
    }
   ],
   "source": [
    "### 4. 내장함수와 datetime라이브러리를 이용하여, 지금을 출력하고,\n",
    "###    49일 1시간 8분 7초 후가 언제인지 출력하는 함수를 만드시오.\n",
    "import datetime\n",
    "def dTime() :\n",
    "    # 현재시각 출력\n",
    "    now = datetime.datetime.today() #현재시각 출력\n",
    "    nTime = now.strftime(\"%Y년 %m월 %d일 %H시 %M분 %S초\") #시각 나타내는 폼 변경\n",
    "    print(\"현재 :\",nTime)\n",
    "    # 현재시각 + (49일 1시간 8분 7초)\n",
    "    future = now + datetime.timedelta(days = 49,\n",
    "                                      hours = 1,\n",
    "                                      minutes = 8,\n",
    "                                      seconds = 7)      \n",
    "    fTime = future.strftime(\"%Y년 %m월 %d일 %H시 %M분 %S초\") #시각 나타내는 폼 변경\n",
    "    print(\"미래 :\", fTime)\n",
    "if __name__ == \"__main__\":\n",
    "    dTime()"
   ]
  },
  {
   "cell_type": "code",
   "execution_count": 23,
   "metadata": {},
   "outputs": [
    {
     "name": "stdin",
     "output_type": "stream",
     "text": [
      "1. 전체출력\n",
      "2. 영어로검색\n",
      "3. 한글로검색\n",
      "선택사항을 입력하세요 :  전체출력\n"
     ]
    },
    {
     "name": "stdout",
     "output_type": "stream",
     "text": [
      "apple:사과\n",
      "banana:바나나\n",
      "camel:낙타\n"
     ]
    }
   ],
   "source": [
    "### 5. 영한사전 프로그램을 만들어라. 딕셔너리를 이용할 것\n",
    "###    모듈화 / 예외처리 할 것\n",
    "import hongs_chukchukbaksa\n",
    "myMod1.dic()"
   ]
  }
 ],
 "metadata": {
  "kernelspec": {
   "display_name": "Python 3",
   "language": "python",
   "name": "python3"
  },
  "language_info": {
   "codemirror_mode": {
    "name": "ipython",
    "version": 3
   },
   "file_extension": ".py",
   "mimetype": "text/x-python",
   "name": "python",
   "nbconvert_exporter": "python",
   "pygments_lexer": "ipython3",
   "version": "3.8.3"
  }
 },
 "nbformat": 4,
 "nbformat_minor": 4
}
